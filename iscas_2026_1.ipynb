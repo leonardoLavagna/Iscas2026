{
  "nbformat": 4,
  "nbformat_minor": 0,
  "metadata": {
    "colab": {
      "provenance": []
    },
    "kernelspec": {
      "name": "python3",
      "display_name": "Python 3"
    },
    "language_info": {
      "name": "python"
    }
  },
  "cells": [
    {
      "cell_type": "markdown",
      "source": [
        "# iscas_2026_1"
      ],
      "metadata": {
        "id": "c0J_64C4DUuV"
      }
    },
    {
      "cell_type": "markdown",
      "source": [
        "## Setup"
      ],
      "metadata": {
        "id": "bVQz1ObnDX6i"
      }
    },
    {
      "cell_type": "code",
      "execution_count": null,
      "metadata": {
        "id": "LogWcfDLDMWK"
      },
      "outputs": [],
      "source": [
        "!git clone https://github.com/leonardoLavagna/Iscas2025"
      ]
    },
    {
      "cell_type": "code",
      "source": [
        "import os\n",
        "os.chdir(\"Iscas2025\")\n",
        "!pip install -r requirements.txt"
      ],
      "metadata": {
        "id": "S7tBy4PLDiQj"
      },
      "execution_count": null,
      "outputs": []
    },
    {
      "cell_type": "markdown",
      "source": [
        "## Grover search as quantum walk"
      ],
      "metadata": {
        "id": "llTt7YqNEDls"
      }
    },
    {
      "cell_type": "code",
      "source": [
        "from qiskit import QuantumCircuit, transpile\n",
        "from qiskit.result import marginal_counts\n",
        "from qiskit.circuit.library import MCXGate, SwapGate\n",
        "from qiskit.visualization import plot_histogram\n",
        "from utilities.grover import simulate\n",
        "from config import *\n",
        "import numpy as np"
      ],
      "metadata": {
        "id": "HcZD69bYFRY7"
      },
      "execution_count": 3,
      "outputs": []
    },
    {
      "cell_type": "code",
      "source": [
        "def grover_diffusion_gate(n):\n",
        "    \"\"\"Grover diffuser on n qubits (reflection about uniform superposition |s>.\"\"\"\n",
        "    qc = QuantumCircuit(n)\n",
        "    qc.h(range(n))\n",
        "    qc.x(range(n))\n",
        "    # multi-controlled Z on the last qubit (about |11...1>)\n",
        "    if n == 1:\n",
        "        qc.z(0)\n",
        "    else:\n",
        "        qc.h(n-1)\n",
        "        qc.append(MCXGate(n-1), list(range(n)))\n",
        "        qc.h(n-1)\n",
        "    qc.x(range(n))\n",
        "    qc.h(range(n))\n",
        "    return qc.to_gate(label=\"Diff[coin]\")"
      ],
      "metadata": {
        "id": "nwVJ5vI4DrzO"
      },
      "execution_count": 4,
      "outputs": []
    },
    {
      "cell_type": "code",
      "source": [
        "def phase_oracle_on_register(n_total, pos_start, pos_len, marked_bitstring):\n",
        "    \"\"\"\n",
        "    Phase-flip oracle that acts only on the position register.\n",
        "    n_total: total qubits in the circuit\n",
        "    pos_start: starting index of position register in the circuit\n",
        "    pos_len: number of qubits in the position register\n",
        "    marked_bitstring: e.g. '101'\n",
        "    \"\"\"\n",
        "    qc = QuantumCircuit(n_total)\n",
        "    # Map MSB...LSB to Qiskit's little-endian order within the block\n",
        "    bits = marked_bitstring[::-1]\n",
        "    # X on zeros to turn |marked> into |11..1>\n",
        "    for i, b in enumerate(bits):\n",
        "        if b == '0':\n",
        "            qc.x(pos_start + i)\n",
        "    # Multi-controlled Z on position register\n",
        "    if pos_len == 1:\n",
        "        qc.z(pos_start)\n",
        "    else:\n",
        "        qc.h(pos_start + pos_len - 1)\n",
        "        qc.append(MCXGate(pos_len - 1),\n",
        "                  list(range(pos_start, pos_start + pos_len)))\n",
        "        qc.h(pos_start + pos_len - 1)\n",
        "    # Undo X\n",
        "    for i, b in enumerate(bits):\n",
        "        if b == '0':\n",
        "            qc.x(pos_start + i)\n",
        "    return qc.to_gate(label=f\"Oracle|{marked_bitstring}>[pos]\")\n",
        "\n",
        "\n",
        "def flipflop_shift_swap(n, coin_start, pos_start):\n",
        "    \"\"\"Flip-flop shift S as a full SWAP between coin and position registers.\"\"\"\n",
        "    qc = QuantumCircuit(2*n)\n",
        "    for i in range(n):\n",
        "        qc.append(SwapGate(), [coin_start + i, pos_start + i])\n",
        "    return qc.to_gate(label=\"Shift=SWAP\")"
      ],
      "metadata": {
        "id": "hfUKqOPGFSs1"
      },
      "execution_count": 5,
      "outputs": []
    },
    {
      "cell_type": "code",
      "source": [
        "def coined_grover_walk_search(n, marked_state, steps=None, measure=True):\n",
        "    \"\"\"\n",
        "    Coined quantum walk Grover search on 2^n items.\n",
        "    Registers: [coin (n qubits)] + [pos (n qubits)]\n",
        "    Walk step: S * (C_coin ⊗ I_pos) * O_pos\n",
        "    \"\"\"\n",
        "    N = 2**n\n",
        "    n_total = 2*n\n",
        "    coin_start = 0\n",
        "    pos_start = n\n",
        "    qc = QuantumCircuit(n_total, n_total if measure else 0)\n",
        "    # Init to |s>_coin ⊗ |s>_pos\n",
        "    qc.h(range(n_total))\n",
        "    # Gates\n",
        "    C_coin = grover_diffusion_gate(n)\n",
        "    O_pos = phase_oracle_on_register(n_total, pos_start, n, marked_state)\n",
        "    S_swap = flipflop_shift_swap(n, coin_start, pos_start)\n",
        "    # Number of Grover-like steps\n",
        "    if steps is None:\n",
        "        steps = int(np.floor(np.pi/4*np.sqrt(N)))\n",
        "    for _ in range(steps):\n",
        "        qc.append(O_pos, range(n_total))\n",
        "        qc.append(C_coin, range(coin_start, coin_start + n))\n",
        "        qc.append(S_swap, range(n_total))\n",
        "    if measure:\n",
        "        qc.measure(range(n_total), range(n_total))\n",
        "    return qc"
      ],
      "metadata": {
        "id": "MPDZaCEXFo_P"
      },
      "execution_count": 6,
      "outputs": []
    },
    {
      "cell_type": "code",
      "source": [
        "def run_walk_and_get_position_counts(n, marked_state, backend=None, shots=2048):\n",
        "    if backend is None:\n",
        "        backend = Aer.get_backend(\"qasm_simulator\")\n",
        "    qc = coined_grover_walk_search(n, marked_state)\n",
        "    qc = transpile(qc, backend)\n",
        "    job = backend.run(qc, shots=shots)\n",
        "    result = job.result()\n",
        "    pos_counts = marginal_counts(result, indices=list(range(n, 2*n))).get_counts()\n",
        "    return qc, pos_counts"
      ],
      "metadata": {
        "id": "9kes0N4TKaDA"
      },
      "execution_count": 7,
      "outputs": []
    },
    {
      "cell_type": "code",
      "source": [
        "# Note: n>2\n",
        "n = 4\n",
        "marked_state = \"0101\"\n",
        "qc, pos_counts = run_walk_and_get_position_counts(n, marked_state, shots=2048)\n",
        "print(\"Position register counts:\", pos_counts)\n",
        "plot_histogram(pos_counts, title=\"Position register distribution\")"
      ],
      "metadata": {
        "colab": {
          "base_uri": "https://localhost:8080/",
          "height": 524
        },
        "id": "xj4O1N0TF8qk",
        "outputId": "073cabf8-95e5-4b15-efc8-b057a1a4fdfa"
      },
      "execution_count": 8,
      "outputs": [
        {
          "output_type": "stream",
          "name": "stdout",
          "text": [
            "Position register counts: {'1011': 83, '1001': 91, '1101': 72, '0010': 72, '1111': 60, '1100': 71, '0110': 66, '0111': 80, '0100': 74, '1110': 75, '0001': 61, '0000': 71, '0011': 61, '1010': 79, '1000': 74, '0101': 958}\n"
          ]
        },
        {
          "output_type": "execute_result",
          "data": {
            "text/plain": [
              "<Figure size 640x480 with 1 Axes>"
            ],
            "image/png": "[encoded data removed]"
          },
          "metadata": {},
          "execution_count": 8
        }
      ]
    },
    {
      "cell_type": "markdown",
      "source": [
        "## Cesar's cipher"
      ],
      "metadata": {
        "id": "6qb-mWb2Ma1w"
      }
    },
    {
      "cell_type": "code",
      "source": [
        "ALPH = \"ABCDEFGHIJKLMNOPQRSTUVWXYZ\"\n",
        "A2I = {c:i for i,c in enumerate(ALPH)}\n",
        "I2A = {i:c for i,c in enumerate(ALPH)}\n",
        "\n",
        "def clean_text(s): return \"\".join(ch for ch in s.upper() if ch in A2I)\n",
        "\n",
        "def caesar_decrypt(ciphertext: str, key: int) -> str:\n",
        "    c = clean_text(ciphertext)\n",
        "    return \"\".join(I2A[(A2I[ch] - key) % 26] for ch in c)\n",
        "\n",
        "def key_from_crib(plain_char: str, cipher_char: str) -> int:\n",
        "    \"\"\"Given one aligned P and C (A..Z), return k = (C - P) mod 26.\"\"\"\n",
        "    return (A2I[cipher_char.upper()] - A2I[plain_char.upper()]) % 26\n",
        "\n",
        "def int_to_bits(x: int, n: int) -> str:\n",
        "    return format(x, f\"0{n}b\")"
      ],
      "metadata": {
        "id": "HtvqLEreMcb6"
      },
      "execution_count": 9,
      "outputs": []
    },
    {
      "cell_type": "markdown",
      "source": [
        "## Quantum Walk-Grover attack against Cesar's cipher"
      ],
      "metadata": {
        "id": "SnxX2lNdMHMB"
      }
    },
    {
      "cell_type": "code",
      "source": [
        "def grover_walk_attack_caesar(ciphertext: str,\n",
        "                              true_key: int = None,\n",
        "                              crib_pair: tuple = None,\n",
        "                              shots: int = 4096,\n",
        "                              backend=backend):\n",
        "    \"\"\"\n",
        "    Grover (coined-walk) attack on Caesar's cipher key space.\n",
        "    You must provide either:\n",
        "      - true_key (for simulation), OR\n",
        "      - crib_pair = (P, C) one aligned plaintext/ciphertext letter (A..Z).\n",
        "    Returns: measured key distribution (over 26), best key, and decrypted text with that key.\n",
        "    \"\"\"\n",
        "    if true_key is None and crib_pair is None:\n",
        "        raise ValueError(\"Provide either true_key for simulation or crib_pair=(P,C).\")\n",
        "    if crib_pair is not None:\n",
        "        P, C = crib_pair\n",
        "        k = key_from_crib(P, C)\n",
        "    else:\n",
        "        k = true_key % 26\n",
        "    # Map key to 5-bit marked state\n",
        "    n = 5\n",
        "    marked_bits = int_to_bits(k, n)\n",
        "    qc = coined_grover_walk_search(n, marked_bits)\n",
        "    tqc = transpile(qc, backend)\n",
        "    job = backend.run(tqc, shots=shots)\n",
        "    result = job.result()\n",
        "    # Position (= key) register is the last n qubits in our layout.\n",
        "    pos_marg = marginal_counts(result, indices=list(range(n, 2*n))).get_counts()\n",
        "    # Convert 5-bit outcomes to integers and aggregate only 0..25\n",
        "    key_hist = {}\n",
        "    for bitstr, cnt in pos_marg.items():\n",
        "        key_int = int(bitstr, 2)\n",
        "        if key_int < 26:\n",
        "            key_hist[key_int] = key_hist.get(key_int, 0) + cnt\n",
        "    # Pick best key\n",
        "    best_key = max(key_hist, key=key_hist.get) if key_hist else None\n",
        "    decrypted = caesar_decrypt(ciphertext, best_key) if best_key is not None else \"\"\n",
        "    return {\n",
        "        \"key_hist_0_25\": key_hist,\n",
        "        \"best_key\": best_key,\n",
        "        \"decrypted_with_best\": decrypted,\n",
        "        \"marked_key\": k\n",
        "    }"
      ],
      "metadata": {
        "id": "rgI9Jk-GM_VV"
      },
      "execution_count": 10,
      "outputs": []
    },
    {
      "cell_type": "markdown",
      "source": [
        "### Fault-tolerant case"
      ],
      "metadata": {
        "id": "_fzUDtUGMKpT"
      }
    },
    {
      "cell_type": "code",
      "source": [
        "from qiskit_aer import Aer\n",
        "\n",
        "ct = \"YMJ VZNHP GWTBS KTC OZRUX TAJW YMJ QFED ITL\"\n",
        "# Suppose we know one aligned pair (crib): plaintext 'T' corresponds to ciphertext 'Y'\n",
        "# (this is just for demo; any aligned pair works)\n",
        "backend = Aer.get_backend(\"qasm_simulator\")\n",
        "out = grover_walk_attack_caesar(ct, crib_pair=('T','Y'), shots=4096, backend=backend)\n",
        "print(\"Marked (correct) key:\", out[\"marked_key\"])\n",
        "print(\"Best key (Grover walk):\", out[\"best_key\"])\n",
        "print(\"Decrypted:\", out[\"decrypted_with_best\"])"
      ],
      "metadata": {
        "colab": {
          "base_uri": "https://localhost:8080/"
        },
        "id": "lO4aO0jITGYI",
        "outputId": "75ef47ac-489d-43f0-d105-7fb6569113a2"
      },
      "execution_count": 14,
      "outputs": [
        {
          "output_type": "stream",
          "name": "stdout",
          "text": [
            "Marked (correct) key: 5\n",
            "Best key (Grover walk): 5\n",
            "Decrypted: THEQUICKBROWNFOXJUMPSOVERTHELAZYDOG\n"
          ]
        }
      ]
    },
    {
      "cell_type": "markdown",
      "source": [
        "**Remark .** Resources needed\n",
        "- One oracle call plus one diffusion (coin-shift) operation\n",
        "- A Grover-type number of steps\n",
        "\n",
        "thus resulting in $T=5\\sim \\sqrt{26}$ queries as expected.\n",
        "\n"
      ],
      "metadata": {
        "id": "AoPBbUZBN0Qy"
      }
    },
    {
      "cell_type": "markdown",
      "source": [
        "### NISQ case"
      ],
      "metadata": {
        "id": "2qWLi0k3MPb3"
      }
    },
    {
      "cell_type": "markdown",
      "source": [
        "In the configuration file (config.py) change the backend to a noisy one."
      ],
      "metadata": {
        "id": "DdViAlv7OjLN"
      }
    },
    {
      "cell_type": "code",
      "source": [
        "def success_prob_for_steps(marked_key:int, steps:int, shots:int,\n",
        "                           backend, n_key_qubits:int=5):\n",
        "    marked_bits = format(marked_key, f\"0{n_key_qubits}b\")\n",
        "    qc = coined_grover_walk_search(n_key_qubits, marked_bits, steps=steps)\n",
        "    tqc = transpile(qc, backend)\n",
        "    job = backend.run(tqc, shots=shots)\n",
        "    result = job.result()\n",
        "    # key register is the last n_key_qubits\n",
        "    pos = marginal_counts(result, indices=list(range(n_key_qubits, 2*n_key_qubits))).get_counts()\n",
        "    return pos.get(marked_bits, 0) / shots"
      ],
      "metadata": {
        "id": "i2MqVmuRMQ2i"
      },
      "execution_count": 15,
      "outputs": []
    },
    {
      "cell_type": "code",
      "source": [
        "from qiskit_aer import Aer, AerSimulator\n",
        "from qiskit_aer.noise import NoiseModel\n",
        "\n",
        "fake = backend\n",
        "noise_model = NoiseModel.from_backend(fake)\n",
        "noisy_backend = AerSimulator(noise_model=noise_model,\n",
        "                             basis_gates=noise_model.basis_gates,\n",
        "                             coupling_map=fake.configuration().coupling_map)\n",
        "ideal_backend = AerSimulator(method=\"statevector\")"
      ],
      "metadata": {
        "colab": {
          "base_uri": "https://localhost:8080/"
        },
        "id": "Hbl_PBnkO0Pw",
        "outputId": "4041ea0f-43ad-45f5-86aa-205b12cf9a15"
      },
      "execution_count": 16,
      "outputs": [
        {
          "output_type": "stream",
          "name": "stderr",
          "text": [
            "/usr/local/lib/python3.12/dist-packages/qiskit_aer/noise/noise_model.py:376: UserWarning: Qiskit backend QasmSimulator('qasm_simulator') has no QubitProperties, so the resulting noise model will not include any thermal relaxation errors.\n",
            "  warn(\n"
          ]
        }
      ]
    },
    {
      "cell_type": "code",
      "source": [
        "shots = 4096\n",
        "marked_key = 5\n",
        "ks = list(range(1, 26))\n",
        "ideal = []\n",
        "noisy = []\n",
        "for k in ks:\n",
        "    ideal.append(success_prob_for_steps(marked_key, k, shots, ideal_backend))\n",
        "    noisy.append(success_prob_for_steps(marked_key, k, shots, noisy_backend))\n",
        "\n",
        "print(\"Steps:\", ks)\n",
        "print(\"Ideal success:\", [round(x,3) for x in ideal])\n",
        "print(\"Noisy success:\", [round(x,3) for x in noisy])"
      ],
      "metadata": {
        "colab": {
          "base_uri": "https://localhost:8080/"
        },
        "id": "2c-aXk4WPIaK",
        "outputId": "2c040154-4906-4c03-b09e-e72fd1170d7c"
      },
      "execution_count": 17,
      "outputs": [
        {
          "output_type": "stream",
          "name": "stdout",
          "text": [
            "Steps: [1, 2, 3, 4, 5, 6, 7, 8, 9, 10, 11, 12, 13, 14, 15, 16, 17, 18, 19, 20, 21, 22, 23, 24, 25]\n",
            "Ideal success: [0.037, 0.266, 0.267, 0.618, 0.611, 0.895, 0.896, 0.999, 0.998, 0.851, 0.86, 0.55, 0.541, 0.211, 0.215, 0.016, 0.012, 0.061, 0.053, 0.309, 0.314, 0.656, 0.665, 0.935, 0.926]\n",
            "Noisy success: [0.03, 0.252, 0.256, 0.591, 0.613, 0.896, 0.898, 0.999, 0.999, 0.858, 0.859, 0.545, 0.538, 0.201, 0.219, 0.012, 0.014, 0.05, 0.051, 0.314, 0.304, 0.655, 0.652, 0.932, 0.929]\n"
          ]
        }
      ]
    },
    {
      "cell_type": "code",
      "source": [
        "import matplotlib.pyplot as plt\n",
        "\n",
        "plt.figure()\n",
        "plt.plot(ks, ideal, marker='o', label='Ideal')\n",
        "plt.plot(ks, noisy, marker='o', label='FakeVigoV2 noise')\n",
        "plt.xlabel(\"Grover / walk steps (oracle queries)\")\n",
        "plt.ylabel(\"P(success) of correct key\")\n",
        "plt.title(\"Grover walk on Caesar key space: steps vs success\")\n",
        "plt.ylim(0,1.05)\n",
        "plt.grid(alpha=0.3)\n",
        "plt.legend()\n",
        "plt.show()"
      ],
      "metadata": {
        "colab": {
          "base_uri": "https://localhost:8080/",
          "height": 472
        },
        "id": "mLEfPl2tPKuf",
        "outputId": "ebfa6f9b-1f67-454a-91c8-ffa133ae284d"
      },
      "execution_count": 18,
      "outputs": [
        {
          "output_type": "display_data",
          "data": {
            "text/plain": [
              "<Figure size 640x480 with 1 Axes>"
            ],
            "image/png": "[encoded data removed]"
          },
          "metadata": {}
        }
      ]
    },
    {
      "cell_type": "markdown",
      "source": [
        "This is a standard Grover-like periodic behaviour where we can see that the noisy backend had a limited impact."
      ],
      "metadata": {
        "id": "YYls0GkVPzfo"
      }
    },
    {
      "cell_type": "markdown",
      "source": [
        "#### Optimal steps and quantification of damping"
      ],
      "metadata": {
        "id": "m0t4RMHSP-qp"
      }
    },
    {
      "cell_type": "code",
      "source": [
        "from qiskit_aer.noise import depolarizing_error, ReadoutError"
      ],
      "metadata": {
        "id": "BaoSRsurQVU6"
      },
      "execution_count": 19,
      "outputs": []
    },
    {
      "cell_type": "code",
      "source": [
        "def sweep_success(marked_key:int, steps_list, shots, backend):\n",
        "    return np.array([success_prob_for_steps(marked_key, k, shots, backend) for k in steps_list])\n",
        "\n",
        "def first_two_peaks(xs, ys):\n",
        "    # simple peak finder: y[i] is a peak if it's greater than neighbors\n",
        "    peaks = []\n",
        "    for i in range(1, len(ys)-1):\n",
        "        if ys[i] >= ys[i-1] and ys[i] >= ys[i+1]:\n",
        "            peaks.append((xs[i], ys[i]))\n",
        "    return peaks[:2]\n",
        "\n",
        "def estimate_kappa(peaks):\n",
        "    if len(peaks) < 2:\n",
        "        return np.nan\n",
        "    (k1, p1), (k2, p2) = peaks[0], peaks[1]\n",
        "    if p2 <= 0 or p1 <= p2:\n",
        "        return np.nan\n",
        "    return (k2 - k1) / np.log(p1 / p2)\n",
        "\n",
        "def analyze_backend(backend, label, marked_key=5, steps_range=range(1, 15), shots=4096, N=26):\n",
        "    xs = np.array(list(steps_range))\n",
        "    ys = sweep_success(marked_key, xs, shots, backend)\n",
        "    peaks = first_two_peaks(xs, ys)\n",
        "    kappa = estimate_kappa(peaks)\n",
        "    k_opt = xs[np.argmax(ys)]\n",
        "    p_opt = np.max(ys)\n",
        "    print(f\"[{label}] optimal steps = {k_opt},  max success = {p_opt:.3f}\")\n",
        "    if len(peaks) >= 1:\n",
        "        print(f\"[{label}] first peak at k={peaks[0][0]} with p={peaks[0][1]:.3f}\")\n",
        "    if len(peaks) >= 2:\n",
        "        print(f\"[{label}] second peak at k={peaks[1][0]} with p={peaks[1][1]:.3f}\")\n",
        "    print(f\"[{label}] estimated damping kappa ≈ {kappa:.2f}\\n\")\n",
        "    return xs, ys, peaks, kappa, k_opt, p_opt"
      ],
      "metadata": {
        "id": "zT-LP7MaQDnk"
      },
      "execution_count": 27,
      "outputs": []
    },
    {
      "cell_type": "code",
      "source": [
        "def simple_noise_model(n_qubits:int,\n",
        "                       p1=1e-3, p2=5e-3, p_meas=2e-2):\n",
        "    \"\"\"\n",
        "    Uniform depolarizing errors: 1q at p1, 2q at p2, and symmetric readout error p_meas.\n",
        "    \"\"\"\n",
        "    nm = NoiseModel()\n",
        "    # gate errors\n",
        "    err1 = depolarizing_error(p1, 1)\n",
        "    err2 = depolarizing_error(p2, 2)\n",
        "    # add to common basis gates (adapted to transpiled basis)\n",
        "    nm.add_all_qubit_quantum_error(err1, ['u1','u2','u3','rx','ry','rz'])\n",
        "    nm.add_all_qubit_quantum_error(err2, ['cx'])\n",
        "    # readout\n",
        "    ro = ReadoutError([[1-p_meas, p_meas],[p_meas, 1-p_meas]])\n",
        "    for q in range(n_qubits):\n",
        "        nm.add_readout_error(ro, [q])\n",
        "    return nm\n",
        "\n",
        "def make_backend_with_noise(n_qubits:int, p1, p2, p_meas, coupling_map=None):\n",
        "    nm = simple_noise_model(n_qubits, p1, p2, p_meas)\n",
        "    return AerSimulator(noise_model=nm,\n",
        "                        basis_gates=nm.basis_gates,\n",
        "                        coupling_map=coupling_map)\n"
      ],
      "metadata": {
        "id": "iTQZxtCGQQAu"
      },
      "execution_count": 28,
      "outputs": []
    },
    {
      "cell_type": "code",
      "source": [
        "# (we use 2*n with n=5 for the walk circuit)\n",
        "nq = 10\n",
        "# 0=noiseless, 2x noise, etc.\n",
        "scales = [0.0, 0.5, 1.0, 2.0]\n",
        "base = dict(p1=1e-3, p2=8e-3, p_meas=2e-2)\n",
        "for s in scales:\n",
        "    be = make_backend_with_noise(nq, s*base['p1'], s*base['p2'], s*base['p_meas'])\n",
        "    analyze_backend(be, f\"dep+ro scale {s}\", marked_key=5, shots=512)"
      ],
      "metadata": {
        "colab": {
          "base_uri": "https://localhost:8080/"
        },
        "id": "WP60yeyLQejv",
        "outputId": "01c6da48-c321-475a-9fd3-b51eedcb0162"
      },
      "execution_count": 29,
      "outputs": [
        {
          "output_type": "stream",
          "name": "stdout",
          "text": [
            "[dep+ro scale 0.0] optimal steps = 8,  max success = 0.998\n",
            "[dep+ro scale 0.0] first peak at k=2 with p=0.242\n",
            "[dep+ro scale 0.0] second peak at k=4 with p=0.645\n",
            "[dep+ro scale 0.0] estimated damping kappa ≈ nan\n",
            "\n",
            "[dep+ro scale 0.5] optimal steps = 4,  max success = 0.340\n",
            "[dep+ro scale 0.5] first peak at k=4 with p=0.340\n",
            "[dep+ro scale 0.5] second peak at k=7 with p=0.334\n",
            "[dep+ro scale 0.5] estimated damping kappa ≈ 172.50\n",
            "\n",
            "[dep+ro scale 1.0] optimal steps = 5,  max success = 0.160\n",
            "[dep+ro scale 1.0] first peak at k=2 with p=0.143\n",
            "[dep+ro scale 1.0] second peak at k=5 with p=0.160\n",
            "[dep+ro scale 1.0] estimated damping kappa ≈ nan\n",
            "\n",
            "[dep+ro scale 2.0] optimal steps = 3,  max success = 0.084\n",
            "[dep+ro scale 2.0] first peak at k=3 with p=0.084\n",
            "[dep+ro scale 2.0] second peak at k=5 with p=0.070\n",
            "[dep+ro scale 2.0] estimated damping kappa ≈ 11.26\n",
            "\n"
          ]
        }
      ]
    },
    {
      "cell_type": "markdown",
      "source": [
        "We can go to higher scales (more shots and steps). Essentially what we can see even here is that:\n",
        "- The damping estimator given needs the second peak lower than the first ($p_1<p_2$) and some second peak is equal or very close and the log term blows up. This is expected looking at Grover oscillation.\n",
        "- Noise dampens amplitude (max success probability decreases fast).\n",
        "- Noise shifts optimal step earlier (oracle queries fewer than ideal)\n",
        "- For Caesar (tiny N=26), only a couple of walk steps are worth executing under noise"
      ],
      "metadata": {
        "id": "2ERRRBLdTaSv"
      }
    },
    {
      "cell_type": "code",
      "source": [
        "from qiskit.transpiler import CouplingMap\n",
        "\n",
        "line_10 = CouplingMap.from_line(10)\n",
        "noisy_line = make_backend_with_noise(10, 1e-3, 8e-3, 2e-2, coupling_map=line_10)"
      ],
      "metadata": {
        "id": "GR8e0Yd9Qlxo"
      },
      "execution_count": 30,
      "outputs": []
    },
    {
      "cell_type": "markdown",
      "source": [
        "#### A combined experiment: noise level and topology"
      ],
      "metadata": {
        "id": "EKT0qd_MQqGa"
      }
    },
    {
      "cell_type": "code",
      "source": [
        "def run_grid(n=5,\n",
        "             scales=(0.0, 0.5, 1.0, 2.0),\n",
        "             base=dict(p1=1e-3, p2=8e-3, p_meas=2e-2),\n",
        "             coupling_map=None,\n",
        "             shots=1024,\n",
        "             steps_range=range(1, 9)):\n",
        "    \"\"\"\n",
        "    Sweep noise scales for a Grover-walk Caesar attack.\n",
        "    Ensures nq=2*n qubits and applies an initial_layout to match the device map.\n",
        "    \"\"\"\n",
        "    nq = 2 * n\n",
        "    stats = []\n",
        "    for s in scales:\n",
        "        be = make_backend_with_noise(\n",
        "            nq,\n",
        "            s*base['p1'],\n",
        "            s*base['p2'],\n",
        "            s*base['p_meas'],\n",
        "            coupling_map=coupling_map\n",
        "        )\n",
        "        # Use forced initial_layout inside analyze_backend\n",
        "        xs, ys, peaks, kappa, k_opt, p_opt = analyze_backend(\n",
        "            be,\n",
        "            f\"scale {s}\",\n",
        "            marked_key=5,\n",
        "            steps_range=steps_range,\n",
        "            shots=shots,\n",
        "            N=26,\n",
        "            initial_layout=list(range(nq))   # <--- force mapping\n",
        "        )\n",
        "        stats.append(dict(scale=s,\n",
        "                          k_opt=k_opt,\n",
        "                          p_opt=p_opt,\n",
        "                          kappa=kappa))\n",
        "    return stats"
      ],
      "metadata": {
        "id": "-w0Q3wKEQtEI"
      },
      "execution_count": 38,
      "outputs": []
    },
    {
      "cell_type": "code",
      "source": [
        "def analyze_backend(backend, label, marked_key=5,\n",
        "                    steps_range=range(1, 26),\n",
        "                    shots=4096, N=26,\n",
        "                    initial_layout=None):\n",
        "    xs = np.array(list(steps_range))\n",
        "    ys = []\n",
        "    for k in xs:\n",
        "        qc = coined_grover_walk_search(5, format(marked_key, \"05b\"), steps=k)\n",
        "        tqc = transpile(qc, backend,\n",
        "                        initial_layout=initial_layout,\n",
        "                        optimization_level=3)\n",
        "        job = backend.run(tqc, shots=shots)\n",
        "        result = job.result()\n",
        "        pos = marginal_counts(result, indices=list(range(5, 10))).get_counts()\n",
        "        ys.append(pos.get(format(marked_key, \"05b\"), 0) / shots)\n",
        "    ys = np.array(ys)\n",
        "    peaks = first_two_peaks(xs, ys)\n",
        "    kappa = estimate_kappa(peaks)\n",
        "    k_opt = xs[np.argmax(ys)]\n",
        "    p_opt = np.max(ys)\n",
        "    print(f\"[{label}] optimal steps = {k_opt},  max success = {p_opt:.3f}\")\n",
        "    if len(peaks) >= 1:\n",
        "        print(f\"[{label}] first peak at k={peaks[0][0]} with p={peaks[0][1]:.3f}\")\n",
        "    if len(peaks) >= 2:\n",
        "        print(f\"[{label}] second peak at k={peaks[1][0]} with p={peaks[1][1]:.3f}\")\n",
        "    print(f\"[{label}] estimated damping kappa ≈ {kappa}\\n\")\n",
        "    return xs, ys, peaks, kappa, k_opt, p_opt"
      ],
      "metadata": {
        "id": "HAvPYNqAWGpV"
      },
      "execution_count": 39,
      "outputs": []
    },
    {
      "cell_type": "code",
      "source": [
        "dense_stats = run_grid(n=5)\n",
        "print(\"Dense:\", dense_stats)"
      ],
      "metadata": {
        "colab": {
          "base_uri": "https://localhost:8080/"
        },
        "id": "ZpASzAGFQvt_",
        "outputId": "1daf9c32-29e1-41f8-f441-a88e3c13ee14"
      },
      "execution_count": 40,
      "outputs": [
        {
          "output_type": "stream",
          "name": "stdout",
          "text": [
            "[scale 0.0] optimal steps = 8,  max success = 0.998\n",
            "[scale 0.0] first peak at k=2 with p=0.271\n",
            "[scale 0.0] second peak at k=4 with p=0.602\n",
            "[scale 0.0] estimated damping kappa ≈ nan\n",
            "\n",
            "[scale 0.5] optimal steps = 6,  max success = 0.345\n",
            "[scale 0.5] first peak at k=2 with p=0.175\n",
            "[scale 0.5] second peak at k=4 with p=0.312\n",
            "[scale 0.5] estimated damping kappa ≈ nan\n",
            "\n",
            "[scale 1.0] optimal steps = 5,  max success = 0.184\n",
            "[scale 1.0] first peak at k=2 with p=0.119\n",
            "[scale 1.0] second peak at k=5 with p=0.184\n",
            "[scale 1.0] estimated damping kappa ≈ nan\n",
            "\n",
            "[scale 2.0] optimal steps = 2,  max success = 0.086\n",
            "[scale 2.0] first peak at k=2 with p=0.086\n",
            "[scale 2.0] second peak at k=4 with p=0.073\n",
            "[scale 2.0] estimated damping kappa ≈ 12.51183142693782\n",
            "\n",
            "Dense: [{'scale': 0.0, 'k_opt': np.int64(8), 'p_opt': np.float64(0.998046875), 'kappa': nan}, {'scale': 0.5, 'k_opt': np.int64(6), 'p_opt': np.float64(0.3447265625), 'kappa': nan}, {'scale': 1.0, 'k_opt': np.int64(5), 'p_opt': np.float64(0.18359375), 'kappa': nan}, {'scale': 2.0, 'k_opt': np.int64(2), 'p_opt': np.float64(0.0859375), 'kappa': np.float64(12.51183142693782)}]\n"
          ]
        }
      ]
    },
    {
      "cell_type": "markdown",
      "source": [
        "The point is: the noise level can be either \"too much\" or \"too little\" given the optimal number of steps (and a topology of qubit connectivity)."
      ],
      "metadata": {
        "id": "vabRkz9-Q3uw"
      }
    },
    {
      "cell_type": "code",
      "source": [
        "def plot_stats(stats, title):\n",
        "    scales = [d['scale'] for d in stats]\n",
        "    p_opts = [d['p_opt'] for d in stats]\n",
        "    k_opts = [d['k_opt'] for d in stats]\n",
        "    fig, ax1 = plt.subplots()\n",
        "    color = 'tab:blue'\n",
        "    ax1.set_xlabel(\"Noise scale\")\n",
        "    ax1.set_ylabel(\"Max success probability\", color=color)\n",
        "    ax1.plot(scales, p_opts, marker='o', color=color, label=\"Max success\")\n",
        "    ax1.tick_params(axis='y', labelcolor=color)\n",
        "    ax1.set_ylim(0, 1.05)\n",
        "    ax2 = ax1.twinx()\n",
        "    color = 'tab:red'\n",
        "    ax2.set_ylabel(\"Optimal steps\", color=color)\n",
        "    ax2.plot(scales, k_opts, marker='s', color=color, label=\"Optimal steps\")\n",
        "    ax2.tick_params(axis='y', labelcolor=color)\n",
        "    plt.title(title)\n",
        "    fig.tight_layout()\n",
        "    plt.show()"
      ],
      "metadata": {
        "id": "vmqn6rIDVOKT"
      },
      "execution_count": 41,
      "outputs": []
    },
    {
      "cell_type": "code",
      "source": [
        "plot_stats(dense_stats, \"Dense connectivity\")"
      ],
      "metadata": {
        "colab": {
          "base_uri": "https://localhost:8080/",
          "height": 487
        },
        "id": "dgF7KF9cVYET",
        "outputId": "d4e997fd-baba-414a-a8dd-b54476c98eec"
      },
      "execution_count": 42,
      "outputs": [
        {
          "output_type": "display_data",
          "data": {
            "text/plain": [
              "<Figure size 640x480 with 2 Axes>"
            ],
            "image/png": "[encoded data removed]"
          },
          "metadata": {}
        }
      ]
    },
    {
      "cell_type": "markdown",
      "source": [
        "In the noiseless regime, the coined Grover walk achieves nearly unit success probability at the predicted number of steps. As we increase the depolarizing and readout noise rates, the amplification peak both lowers and shifts to earlier iterations. For Caesar’s 26-key space, the optimal number of oracle queries drops from 7-8 in the ideal case to only 2-3 under 2x realistic noise, with maximum success probability falling below 10%"
      ],
      "metadata": {
        "id": "RsNjrh4bXVbi"
      }
    }
  ]
}