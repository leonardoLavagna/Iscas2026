{
  "nbformat": 4,
  "nbformat_minor": 0,
  "metadata": {
    "colab": {
      "provenance": [],
      "authorship_tag": "ABX9TyNYA2jXYRKdmidtBPz2uIOV",
      "include_colab_link": true
    },
    "kernelspec": {
      "name": "python3",
      "display_name": "Python 3"
    },
    "language_info": {
      "name": "python"
    }
  },
  "cells": [
    {
      "cell_type": "markdown",
      "metadata": {
        "id": "view-in-github",
        "colab_type": "text"
      },
      "source": [
        "<a href=\"https://colab.research.google.com/github/leonardoLavagna/Iscas2026/blob/main/notebooks/iscas_2026_3.ipynb\" target=\"_parent\"><img src=\"https://colab.research.google.com/assets/colab-badge.svg\" alt=\"Open In Colab\"/></a>"
      ]
    },
    {
      "cell_type": "markdown",
      "source": [
        "# ISCAS 2026\n",
        "**Notebook 3**\n",
        "\n",
        "Time-space trade-offs with a symmetric encryption-decryption scheme with a quantum channel. We consider model variants to the unified Grover-walk model where we add:\n",
        "- Qunatum-ciphertext oracle where the classical \"measure-then-return\" oracle is replaced with an encryption unitary $U_E:|m,k,0\\rangle\\to |m,k,E_k(m)\\rangle$ and (otpionally) a similarly defined decryption unitary $U_D$. This lets the adversary keep coherence across queries and entangle returns with ancillae.\n",
        "- Quantum advice in a side register (entangled with the workspace).\n",
        "- Non-isolated quantum channel (CPTP) between queries acting on chipertext (an optionally the ancillae) before the adversary can \"touch\" it again.\n",
        "- QCCA-like toy experiments, measuring e.g., the benefit of coherence vs measure-return, advice size vs \"usefulness\", channel type vs optimal number of steps, entangled ciphertext returns (harvesting phase information?) etc..."
      ],
      "metadata": {
        "id": "XuV9M0yv8mxl"
      }
    },
    {
      "cell_type": "markdown",
      "source": [
        "## Setup"
      ],
      "metadata": {
        "id": "S_wLdng6BS7e"
      }
    },
    {
      "cell_type": "code",
      "execution_count": null,
      "metadata": {
        "id": "j_JxxXkD8feV"
      },
      "outputs": [],
      "source": [
        "!git clone https://github.com/leonardoLavagna/Iscas2026/"
      ]
    },
    {
      "cell_type": "code",
      "source": [
        "import os\n",
        "os.chdir(\"Iscas2026\")"
      ],
      "metadata": {
        "id": "T0m6Mmf-AN_b"
      },
      "execution_count": 12,
      "outputs": []
    },
    {
      "cell_type": "code",
      "source": [
        "!pip install -r requirements.txt"
      ],
      "metadata": {
        "id": "Q5dN8zRXAY2o"
      },
      "execution_count": null,
      "outputs": []
    },
    {
      "cell_type": "code",
      "source": [
        "from qiskit import QuantumCircuit, QuantumRegister, ClassicalRegister, transpile\n",
        "try:\n",
        "    from qiskit_aer import AerSimulator\n",
        "    HAVE_AER = True\n",
        "except Exception:\n",
        "    HAVE_AER = False\n",
        "from qiskit.quantum_info import Statevector\n",
        "import matplotlib.pyplot as plt"
      ],
      "metadata": {
        "id": "ewpvET8FHXfh"
      },
      "execution_count": 14,
      "outputs": []
    },
    {
      "cell_type": "markdown",
      "source": [
        "## Caesar cipher experiments"
      ],
      "metadata": {
        "id": "PJS-QnwWCvM9"
      }
    },
    {
      "cell_type": "markdown",
      "source": [
        "We compare the unified Grover-walk search when the encryption oracle’s \"channel\" is\n",
        "- isolated (all work qubits are uncomputed each iteration), vs\n",
        "- non-isolated (a tiny, 1-qubit environment keeps coherent information between iterations).\n",
        "\n",
        "We carry out a toy experiment on a 2-bit Caesar cipher with the objective of recovering its secret key. In this case 1 query should suffice for standard Grover serach."
      ],
      "metadata": {
        "id": "zgs7e5aoIWSE"
      }
    },
    {
      "cell_type": "markdown",
      "source": [
        "We have the following registers and preparation steps:\n",
        "- $m$ (2 qubits): fixed to known plaintext\n",
        "- $k$ (2 qubits): put in uniform superposition\n",
        "- $c$ (2 qubits): scratch to hold the ciphertext\n",
        "- *phaes* (1 qubit): prepared in $|-\\rangle$ for phase kickback\n",
        "- *env* (1 qubit, only in non-isolated): the quantum-channel memory that persists across steps\n",
        "\n",
        "Here the oracle logic (marking the \"good\" key) compute $c$ and compare it to the target $c^*$. In the isolated case we compute $c\\oplus (m+k)\\to c$, compare it to $c^*$ and flip the phase of $|k^*\\rangle$, then uncompute $c$ so that all non-key registers return to the initial all-zero value (i.e., nothing leaks between iterations). In the non-isolated case before the uncomputation we have an extra step due to the presence of the channel that saves the parity of $c$ to the *env* register."
      ],
      "metadata": {
        "id": "vfuwLZA4JLrv"
      }
    },
    {
      "cell_type": "code",
      "source": [
        "def bit(x, i):\n",
        "    return (x >> i) & 1\n",
        "\n",
        "\n",
        "def xor_const(qc: QuantumCircuit, reg, value: int):\n",
        "    for i in range(len(reg)):\n",
        "        if bit(value, i):\n",
        "            qc.x(reg[i])\n",
        "\n",
        "\n",
        "def mark_if_zero(qc: QuantumCircuit, reg, phase_qubit):\n",
        "    # Flip phase (using phase prepared in |->) iff reg == 0^n\n",
        "    for q in reg: qc.x(q)\n",
        "    qc.mcx(list(reg), phase_qubit)\n",
        "    for q in reg: qc.x(q)\n",
        "\n",
        "\n",
        "def caesar_encrypt_xor_output(m, k, c):\n",
        "    \"\"\"\n",
        "    y ^= (m + k) mod 4  on 2-bit registers (m,k,c).\n",
        "    Implemented via a tiny 16-case selector (cheap and clear).\n",
        "    \"\"\"\n",
        "    qc = QuantumCircuit(m, k, c, name=\"U_E_caesar\")\n",
        "    for mval in range(4):\n",
        "        for kval in range(4):\n",
        "            out = (mval + kval) % 4\n",
        "            # condition on m == mval and k == kval (use X-on-zeros trick)\n",
        "            for i in range(2):\n",
        "                if bit(mval, i) == 0: qc.x(m[i])\n",
        "            for i in range(2):\n",
        "                if bit(kval, i) == 0: qc.x(k[i])\n",
        "            ctrls = [m[0], m[1], k[0], k[1]]\n",
        "            for j in range(2):\n",
        "                if bit(out, j) == 1:\n",
        "                    qc.mcx(ctrls, c[j])\n",
        "            # undo X-on-zeros\n",
        "            for i in range(2):\n",
        "                if bit(kval, i) == 0: qc.x(k[i])\n",
        "            for i in range(2):\n",
        "                if bit(mval, i) == 0: qc.x(m[i])\n",
        "    return qc\n",
        "\n",
        "\n",
        "def oracle_isolated_caesar(m, k, c, phase, m_const: int, c_const: int):\n",
        "    \"\"\"\n",
        "    Clean phase oracle: compute c ^= (m+k), compare to c_const, flip phase, UNCOMPUTE c.\n",
        "    Assumes phase is prepared in |->.\n",
        "    \"\"\"\n",
        "    qc = QuantumCircuit(m, k, c, phase, name=\"O_iso\")\n",
        "    # |m = m_const>\n",
        "    for i in range(2):\n",
        "        if bit(m_const, i): qc.x(m[i])\n",
        "    # compute c\n",
        "    qc.append(caesar_encrypt_xor_output(m, k, c).to_gate(), list(m)+list(k)+list(c))\n",
        "    # compare to c_const and phase-flip on equality\n",
        "    xor_const(qc, c, c_const)\n",
        "    mark_if_zero(qc, c, phase[0])\n",
        "    xor_const(qc, c, c_const)\n",
        "    # uncompute c (isolated)\n",
        "    qc.append(caesar_encrypt_xor_output(m, k, c).to_gate().inverse(), list(m)+list(k)+list(c))\n",
        "    return qc\n",
        "\n",
        "\n",
        "def channel_parity_to_env(c, env):\n",
        "    \"\"\"Reversible 'channel': copy parity(c0 ^ c1) into env[0].\"\"\"\n",
        "    qc = QuantumCircuit(c, env, name=\"CHAN_PARITY\")\n",
        "    qc.cx(c[0], env[0]); qc.cx(c[1], env[0])\n",
        "    return qc\n",
        "\n",
        "\n",
        "def oracle_nonisolated_caesar_light(m, k, c, env, phase, m_const: int, c_const: int):\n",
        "    \"\"\"\n",
        "    Non-isolated (light): compute c, phase-flip on match, copy parity(c)->env, UNCOMPUTE c.\n",
        "    The env qubit is the quantum-channel memory kept between Grover steps.\n",
        "    \"\"\"\n",
        "    qc = QuantumCircuit(m, k, c, env, phase, name=\"O_niso_light\")\n",
        "    # |m = m_const>\n",
        "    for i in range(2):\n",
        "        if bit(m_const, i): qc.x(m[i])\n",
        "    # compute c\n",
        "    qc.append(caesar_encrypt_xor_output(m, k, c).to_gate(), list(m)+list(k)+list(c))\n",
        "    # compare & phase\n",
        "    xor_const(qc, c, c_const)\n",
        "    mark_if_zero(qc, c, phase[0])\n",
        "    xor_const(qc, c, c_const)\n",
        "    # channel memory: parity(c) -> env[0]\n",
        "    qc.append(channel_parity_to_env(c, env).to_gate(), list(c)+list(env))\n",
        "    # UNCOMPUTE c (env keeps memory => non-isolated)\n",
        "    qc.append(caesar_encrypt_xor_output(m, k, c).to_gate().inverse(), list(m)+list(k)+list(c))\n",
        "    return qc\n",
        "\n",
        "\n",
        "def diffusion_on_key(qc: QuantumCircuit, k):\n",
        "    for q in k: qc.h(q); qc.x(q)\n",
        "    qc.h(k[1]); qc.mcx([k[0]], k[1]); qc.h(k[1])\n",
        "    for q in k: qc.x(q); qc.h(q)\n"
      ],
      "metadata": {
        "id": "0ON4IB1bC1Gi"
      },
      "execution_count": 15,
      "outputs": []
    },
    {
      "cell_type": "code",
      "source": [
        "\n",
        "def run_steps(t, *, m_const: int, c_const: int, k_bits: int = 2, nonisolated: bool = False, shots: int = 8192):\n",
        "    # Registers\n",
        "    m = QuantumRegister(2, \"m\")\n",
        "    k = QuantumRegister(k_bits, \"k\")  # 2 bits\n",
        "    c = QuantumRegister(2, \"c\")\n",
        "    p = QuantumRegister(1, \"phase\")\n",
        "    env = QuantumRegister(1, \"env\") if nonisolated else None\n",
        "    ck = ClassicalRegister(k_bits, \"ck\")\n",
        "    regs = [m, k, c, p] + ([env] if env else []) + [ck]\n",
        "    qc = QuantumCircuit(*regs, name=f\"grover_{'niso' if nonisolated else 'iso'}\")\n",
        "    # Prepare |+>^k and |-> phase\n",
        "    for q in k: qc.h(q)\n",
        "    qc.x(p[0]); qc.h(p[0])\n",
        "    # Build chosen oracle\n",
        "    if nonisolated:\n",
        "        O = oracle_nonisolated_caesar_light(m, k, c, env, p, m_const, c_const)\n",
        "    else:\n",
        "        O = oracle_isolated_caesar(m, k, c, p, m_const, c_const)\n",
        "    # Grover / walk iterations\n",
        "    for _ in range(t):\n",
        "        qc.append(O.to_gate(), qc.qubits[:O.num_qubits])\n",
        "        diffusion_on_key(qc, k)\n",
        "    # Measure only the key\n",
        "    for i in range(k_bits):\n",
        "        qc.measure(k[i], ck[i])\n",
        "    # Simulate\n",
        "    if HAVE_AER:\n",
        "        sim = AerSimulator(method=\"matrix_product_state\")\n",
        "        job = sim.run(transpile(qc, sim, optimization_level=2), shots=shots)\n",
        "        counts = job.result().get_counts()\n",
        "    else:\n",
        "        # Fallback: small t only—simulate statevector then sample artificially\n",
        "        sv = Statevector.from_instruction(qc.remove_final_measurements(inplace=False))\n",
        "        # Build counts for the key register only (LSB-first)\n",
        "        probs = {}\n",
        "        # Extract probabilities by projecting on key bits (2 qubits => 4 outcomes)\n",
        "        # We’ll do a cheap measurement emulation:\n",
        "        from collections import Counter\n",
        "        import random\n",
        "        # Actually measure: add classical reg and re-run? Not available without Aer; emulate:\n",
        "        # For tiny demos this fallback is fine. Prefer Aer for real runs.\n",
        "        counts = Counter()\n",
        "        # Not exact without proper marginalization; strongly recommend installing Aer.\n",
        "        # To avoid confusion, force user to install Aer if they reach here.\n",
        "        raise RuntimeError(\"Please install qiskit-aer or enable it to run the sampling cleanly.\")\n",
        "    return counts\n",
        "\n",
        "\n",
        "def prob_of_key(counts, k_star: int, k_bits: int = 2):\n",
        "    bs = format(k_star, f\"0{k_bits}b\")[::-1]\n",
        "    return counts.get(bs, 0) / sum(counts.values())"
      ],
      "metadata": {
        "id": "GjZONV6oHotz"
      },
      "execution_count": 16,
      "outputs": []
    },
    {
      "cell_type": "code",
      "source": [
        "# plaintext\n",
        "m_const = 0b01\n",
        "# hidden key\n",
        "k_star  = 0b10\n",
        "\n",
        "c_const = (m_const + k_star) % 4\n",
        "steps = range(0, 8)\n",
        "p_iso  = []\n",
        "p_niso = []\n",
        "\n",
        "for t in steps:\n",
        "    c_iso  = run_steps(t, m_const=m_const, c_const=c_const, nonisolated=False)\n",
        "    c_niso = run_steps(t, m_const=m_const, c_const=c_const, nonisolated=True)\n",
        "    p_iso.append(prob_of_key(c_iso,  k_star))\n",
        "    p_niso.append(prob_of_key(c_niso, k_star))\n",
        "\n",
        "plt.plot(steps, p_iso,  marker='o', label=\"isolated channel\")\n",
        "plt.plot(steps, p_niso, marker='s', label=\"non-isolated\")\n",
        "plt.xlabel(\"Grover / walk steps\"); plt.ylabel(\"Pr[key = k*]\")\n",
        "plt.grid(True); plt.legend(); plt.show()"
      ],
      "metadata": {
        "colab": {
          "base_uri": "https://localhost:8080/",
          "height": 449
        },
        "id": "ExKNxfQuHr-t",
        "outputId": "6030441a-7120-4d30-cbfd-00a3964f4750"
      },
      "execution_count": 17,
      "outputs": [
        {
          "output_type": "display_data",
          "data": {
            "text/plain": [
              "<Figure size 640x480 with 1 Axes>"
            ],
            "image/png": "[encoded data removed]"
          },
          "metadata": {}
        }
      ]
    },
    {
      "cell_type": "markdown",
      "source": [
        "We see\n",
        "- A blue curve (isolated channel) with regular Grover oscillations between $P_{\\text{succ}}=0$ and 0.5, peaking at steps $t=1,3,7$. Perfect constructive and destructive interference in the 2-dimensional Grover subspace.\n",
        "\n",
        "- An orange curve (non-isolated channel) with oscillations are damped and shifted: the success amplitude never exceeds 0.35 and loses periodicity. The environment qubit becomes entangled with the key, partially destroying interference.\n",
        "\n",
        "This is precisely the expected qualitative effect of introducing a non-isolated quantum channel that keeps coherence between oracle uses.\n",
        "\n",
        "In the isolated oracle, every iteration starts from a clean workspace; the dynamics stay inside the span of $|k^*\\rangle$ (good) and its complement (bad). In the non-isolated oracle, the key becomes correlated with the environment: $\\sum_k \\alpha_k |k\\rangle |env(k)\\rangle$, so different key branches evolve with different environmental phases. The diffusion acts only on $k$, which now interferes imperfectly, hence the weaker, distorted oscillations.\n",
        "\n",
        "Even a single qubit of coherent memory modifies the algorithm’s trajectory. In the plot, the extra channel *reduces* success probability (a destructive case),but in principle, if the channel stored *useful* information about $k$, it could also yield a speed-up.\n",
        "\n",
        "**Next steps**\n",
        "- Increase the environment size $S$ or change what information it stores (e.g., one ciphertext bit).  \n",
        "- Partially reset the environment each round to interpolate between fully isolated and fully coherent regimes.  \n",
        "- Measure how the optimal number of steps $t^*$ and the maximal $P_{\\text{succ}}$ vary with $S$."
      ],
      "metadata": {
        "id": "ZKcdQv6UK2_e"
      }
    },
    {
      "cell_type": "markdown",
      "source": [
        "### Circuit"
      ],
      "metadata": {
        "id": "hlppUjJZNx0g"
      }
    },
    {
      "cell_type": "code",
      "source": [
        "from qiskit.circuit import Gate\n",
        "\n",
        "def diffusion_on_key_block(k):\n",
        "    qc = QuantumCircuit(k, name=\"DIFF(k)\")\n",
        "    for q in k: qc.h(q); qc.x(q)\n",
        "    qc.h(k[1]); qc.mcx([k[0]], k[1]); qc.h(k[1])\n",
        "    for q in k: qc.x(q); qc.h(q)\n",
        "    return qc"
      ],
      "metadata": {
        "id": "hV6u_IqmOaBS"
      },
      "execution_count": 19,
      "outputs": []
    },
    {
      "cell_type": "code",
      "source": [
        "m_const = 0b01\n",
        "k_star  = 0b10\n",
        "c_const = (m_const + k_star) % 4\n",
        "m  = QuantumRegister(2, \"m\")\n",
        "k  = QuantumRegister(2, \"k\")\n",
        "c  = QuantumRegister(2, \"c\")\n",
        "p  = QuantumRegister(1, \"phase\")\n",
        "env = QuantumRegister(1, \"env\")\n",
        "\n",
        "qc_iso = QuantumCircuit(m,k,c,p, name=\"Grover_step_ISO\")\n",
        "for q in k: qc_iso.h(q)\n",
        "qc_iso.x(p[0]); qc_iso.h(p[0])\n",
        "Oiso = oracle_isolated_caesar(m,k,c,p,m_const,c_const).to_gate(label=\"O_iso\")\n",
        "qc_iso.append(Oiso, list(m)+list(k)+list(c)+list(p))\n",
        "qc_iso.append(diffusion_on_key_block(k).to_gate(), list(k))\n",
        "\n",
        "m2 = QuantumRegister(2, \"m\")\n",
        "k2 = QuantumRegister(2, \"k\")\n",
        "c2 = QuantumRegister(2, \"c\")\n",
        "p2 = QuantumRegister(1, \"phase\")\n",
        "e2 = QuantumRegister(1, \"env\")\n",
        "qc_niso = QuantumCircuit(m2,k2,c2,e2,p2, name=\"Grover_step_NONISO\")\n",
        "for q in k2: qc_niso.h(q)\n",
        "qc_niso.x(p2[0]); qc_niso.h(p2[0])\n",
        "Oniso = oracle_nonisolated_caesar_light(m2,k2,c2,e2,p2,m_const,c_const).to_gate(label=\"O_niso\")\n",
        "qc_niso.append(Oniso, list(m2)+list(k2)+list(c2)+list(e2)+list(p2))\n",
        "qc_niso.append(diffusion_on_key_block(k2).to_gate(), list(k2))"
      ],
      "metadata": {
        "colab": {
          "base_uri": "https://localhost:8080/"
        },
        "id": "0Xu4h7ffNy_3",
        "outputId": "5365eb82-b7e3-4550-8fdf-c29396695c29"
      },
      "execution_count": 20,
      "outputs": [
        {
          "output_type": "execute_result",
          "data": {
            "text/plain": [
              "<qiskit.circuit.instructionset.InstructionSet at 0x7ec5c0735ed0>"
            ]
          },
          "metadata": {},
          "execution_count": 20
        }
      ]
    },
    {
      "cell_type": "code",
      "source": [
        "display(qc_iso.draw())\n",
        "display(qc_niso.draw())"
      ],
      "metadata": {
        "colab": {
          "base_uri": "https://localhost:8080/",
          "height": 510
        },
        "id": "Xjz8Rkh1OJK5",
        "outputId": "bc7bf7df-74d3-4fd0-9e14-fc682e83a51f"
      },
      "execution_count": 24,
      "outputs": [
        {
          "output_type": "display_data",
          "data": {
            "text/plain": [
              "                 ┌────────┐            \n",
              "  m_0: ──────────┤0       ├────────────\n",
              "                 │        │            \n",
              "  m_1: ──────────┤1       ├────────────\n",
              "       ┌───┐     │        │┌──────────┐\n",
              "  k_0: ┤ H ├─────┤2       ├┤0         ├\n",
              "       ├───┤     │        ││  DIFF(k) │\n",
              "  k_1: ┤ H ├─────┤3 O_iso ├┤1         ├\n",
              "       └───┘     │        │└──────────┘\n",
              "  c_0: ──────────┤4       ├────────────\n",
              "                 │        │            \n",
              "  c_1: ──────────┤5       ├────────────\n",
              "       ┌───┐┌───┐│        │            \n",
              "phase: ┤ X ├┤ H ├┤6       ├────────────\n",
              "       └───┘└───┘└────────┘            "
            ],
            "text/html": [
              "<pre style=\"word-wrap: normal;white-space: pre;background: #fff0;line-height: 1.1;font-family: &quot;Courier New&quot;,Courier,monospace\">                 ┌────────┐            \n",
              "  m_0: ──────────┤0       ├────────────\n",
              "                 │        │            \n",
              "  m_1: ──────────┤1       ├────────────\n",
              "       ┌───┐     │        │┌──────────┐\n",
              "  k_0: ┤ H ├─────┤2       ├┤0         ├\n",
              "       ├───┤     │        ││  DIFF(k) │\n",
              "  k_1: ┤ H ├─────┤3 O_iso ├┤1         ├\n",
              "       └───┘     │        │└──────────┘\n",
              "  c_0: ──────────┤4       ├────────────\n",
              "                 │        │            \n",
              "  c_1: ──────────┤5       ├────────────\n",
              "       ┌───┐┌───┐│        │            \n",
              "phase: ┤ X ├┤ H ├┤6       ├────────────\n",
              "       └───┘└───┘└────────┘            </pre>"
            ]
          },
          "metadata": {}
        },
        {
          "output_type": "display_data",
          "data": {
            "text/plain": [
              "                 ┌─────────┐            \n",
              "  m_0: ──────────┤0        ├────────────\n",
              "                 │         │            \n",
              "  m_1: ──────────┤1        ├────────────\n",
              "       ┌───┐     │         │┌──────────┐\n",
              "  k_0: ┤ H ├─────┤2        ├┤0         ├\n",
              "       ├───┤     │         ││  DIFF(k) │\n",
              "  k_1: ┤ H ├─────┤3        ├┤1         ├\n",
              "       └───┘     │  O_niso │└──────────┘\n",
              "  c_0: ──────────┤4        ├────────────\n",
              "                 │         │            \n",
              "  c_1: ──────────┤5        ├────────────\n",
              "                 │         │            \n",
              "  env: ──────────┤6        ├────────────\n",
              "       ┌───┐┌───┐│         │            \n",
              "phase: ┤ X ├┤ H ├┤7        ├────────────\n",
              "       └───┘└───┘└─────────┘            "
            ],
            "text/html": [
              "<pre style=\"word-wrap: normal;white-space: pre;background: #fff0;line-height: 1.1;font-family: &quot;Courier New&quot;,Courier,monospace\">                 ┌─────────┐            \n",
              "  m_0: ──────────┤0        ├────────────\n",
              "                 │         │            \n",
              "  m_1: ──────────┤1        ├────────────\n",
              "       ┌───┐     │         │┌──────────┐\n",
              "  k_0: ┤ H ├─────┤2        ├┤0         ├\n",
              "       ├───┤     │         ││  DIFF(k) │\n",
              "  k_1: ┤ H ├─────┤3        ├┤1         ├\n",
              "       └───┘     │  O_niso │└──────────┘\n",
              "  c_0: ──────────┤4        ├────────────\n",
              "                 │         │            \n",
              "  c_1: ──────────┤5        ├────────────\n",
              "                 │         │            \n",
              "  env: ──────────┤6        ├────────────\n",
              "       ┌───┐┌───┐│         │            \n",
              "phase: ┤ X ├┤ H ├┤7        ├────────────\n",
              "       └───┘└───┘└─────────┘            </pre>"
            ]
          },
          "metadata": {}
        }
      ]
    },
    {
      "cell_type": "code",
      "source": [
        "display(qc_iso.decompose(reps=1).draw())\n",
        "display(qc_niso.decompose(reps=1).draw())"
      ],
      "metadata": {
        "colab": {
          "base_uri": "https://localhost:8080/",
          "height": 1000
        },
        "id": "w1yLcO1lOjRN",
        "outputId": "25ecb583-8be1-42a5-b6bc-b2df3d991a0b"
      },
      "execution_count": 25,
      "outputs": [
        {
          "output_type": "display_data",
          "data": {
            "text/plain": [
              "           ┌───┐     ┌─────────────┐                         ┌────────────────┐»\n",
              "  m_0: ────┤ X ├─────┤0            ├─────────────────────────┤0               ├»\n",
              "           └───┘     │             │                         │                │»\n",
              "  m_1: ──────────────┤1            ├─────────────────────────┤1               ├»\n",
              "       ┌────────────┐│             │                         │                │»\n",
              "  k_0: ┤ U(π/2,0,π) ├┤2            ├─────────────────────────┤2               ├»\n",
              "       ├────────────┤│  U_E_caesar │                         │  U_E_caesar_dg │»\n",
              "  k_1: ┤ U(π/2,0,π) ├┤3            ├─────────────────────────┤3               ├»\n",
              "       └────────────┘│             │┌───┐┌───┐     ┌───┐┌───┐│                │»\n",
              "  c_0: ──────────────┤4            ├┤ X ├┤ X ├──■──┤ X ├┤ X ├┤4               ├»\n",
              "                     │             │├───┤├───┤  │  ├───┤├───┤│                │»\n",
              "  c_1: ──────────────┤5            ├┤ X ├┤ X ├──■──┤ X ├┤ X ├┤5               ├»\n",
              "        ┌──────────┐ └┬────────────┤└───┘└───┘┌─┴─┐└───┘└───┘└────────────────┘»\n",
              "phase: ─┤ U(π,0,π) ├──┤ U(π/2,0,π) ├──────────┤ X ├────────────────────────────»\n",
              "        └──────────┘  └────────────┘          └───┘                            »\n",
              "«                                          \n",
              "«  m_0: ───────────────────────────────────\n",
              "«                                          \n",
              "«  m_1: ───────────────────────────────────\n",
              "«       ┌───┐┌───┐          ┌───┐┌───┐     \n",
              "«  k_0: ┤ H ├┤ X ├───────■──┤ X ├┤ H ├─────\n",
              "«       ├───┤├───┤┌───┐┌─┴─┐├───┤├───┤┌───┐\n",
              "«  k_1: ┤ H ├┤ X ├┤ H ├┤ X ├┤ H ├┤ X ├┤ H ├\n",
              "«       └───┘└───┘└───┘└───┘└───┘└───┘└───┘\n",
              "«  c_0: ───────────────────────────────────\n",
              "«                                          \n",
              "«  c_1: ───────────────────────────────────\n",
              "«                                          \n",
              "«phase: ───────────────────────────────────\n",
              "«                                          "
            ],
            "text/html": [
              "<pre style=\"word-wrap: normal;white-space: pre;background: #fff0;line-height: 1.1;font-family: &quot;Courier New&quot;,Courier,monospace\">           ┌───┐     ┌─────────────┐                         ┌────────────────┐»\n",
              "  m_0: ────┤ X ├─────┤0            ├─────────────────────────┤0               ├»\n",
              "           └───┘     │             │                         │                │»\n",
              "  m_1: ──────────────┤1            ├─────────────────────────┤1               ├»\n",
              "       ┌────────────┐│             │                         │                │»\n",
              "  k_0: ┤ U(π/2,0,π) ├┤2            ├─────────────────────────┤2               ├»\n",
              "       ├────────────┤│  U_E_caesar │                         │  U_E_caesar_dg │»\n",
              "  k_1: ┤ U(π/2,0,π) ├┤3            ├─────────────────────────┤3               ├»\n",
              "       └────────────┘│             │┌───┐┌───┐     ┌───┐┌───┐│                │»\n",
              "  c_0: ──────────────┤4            ├┤ X ├┤ X ├──■──┤ X ├┤ X ├┤4               ├»\n",
              "                     │             │├───┤├───┤  │  ├───┤├───┤│                │»\n",
              "  c_1: ──────────────┤5            ├┤ X ├┤ X ├──■──┤ X ├┤ X ├┤5               ├»\n",
              "        ┌──────────┐ └┬────────────┤└───┘└───┘┌─┴─┐└───┘└───┘└────────────────┘»\n",
              "phase: ─┤ U(π,0,π) ├──┤ U(π/2,0,π) ├──────────┤ X ├────────────────────────────»\n",
              "        └──────────┘  └────────────┘          └───┘                            »\n",
              "«                                          \n",
              "«  m_0: ───────────────────────────────────\n",
              "«                                          \n",
              "«  m_1: ───────────────────────────────────\n",
              "«       ┌───┐┌───┐          ┌───┐┌───┐     \n",
              "«  k_0: ┤ H ├┤ X ├───────■──┤ X ├┤ H ├─────\n",
              "«       ├───┤├───┤┌───┐┌─┴─┐├───┤├───┤┌───┐\n",
              "«  k_1: ┤ H ├┤ X ├┤ H ├┤ X ├┤ H ├┤ X ├┤ H ├\n",
              "«       └───┘└───┘└───┘└───┘└───┘└───┘└───┘\n",
              "«  c_0: ───────────────────────────────────\n",
              "«                                          \n",
              "«  c_1: ───────────────────────────────────\n",
              "«                                          \n",
              "«phase: ───────────────────────────────────\n",
              "«                                          </pre>"
            ]
          },
          "metadata": {}
        },
        {
          "output_type": "display_data",
          "data": {
            "text/plain": [
              "           ┌───┐     ┌─────────────┐                                         »\n",
              "  m_0: ────┤ X ├─────┤0            ├─────────────────────────────────────────»\n",
              "           └───┘     │             │                                         »\n",
              "  m_1: ──────────────┤1            ├─────────────────────────────────────────»\n",
              "       ┌────────────┐│             │                                         »\n",
              "  k_0: ┤ U(π/2,0,π) ├┤2            ├─────────────────────────────────────────»\n",
              "       ├────────────┤│  U_E_caesar │                                         »\n",
              "  k_1: ┤ U(π/2,0,π) ├┤3            ├─────────────────────────────────────────»\n",
              "       └────────────┘│             │┌───┐┌───┐     ┌───┐┌───┐┌──────────────┐»\n",
              "  c_0: ──────────────┤4            ├┤ X ├┤ X ├──■──┤ X ├┤ X ├┤0             ├»\n",
              "                     │             │├───┤├───┤  │  ├───┤├───┤│              │»\n",
              "  c_1: ──────────────┤5            ├┤ X ├┤ X ├──■──┤ X ├┤ X ├┤1 CHAN_PARITY ├»\n",
              "                     └─────────────┘└───┘└───┘  │  └───┘└───┘│              │»\n",
              "  env: ─────────────────────────────────────────┼────────────┤2             ├»\n",
              "        ┌──────────┐  ┌────────────┐          ┌─┴─┐          └──────────────┘»\n",
              "phase: ─┤ U(π,0,π) ├──┤ U(π/2,0,π) ├──────────┤ X ├──────────────────────────»\n",
              "        └──────────┘  └────────────┘          └───┘                          »\n",
              "«       ┌────────────────┐                                   \n",
              "«  m_0: ┤0               ├───────────────────────────────────\n",
              "«       │                │                                   \n",
              "«  m_1: ┤1               ├───────────────────────────────────\n",
              "«       │                │┌───┐┌───┐          ┌───┐┌───┐     \n",
              "«  k_0: ┤2               ├┤ H ├┤ X ├───────■──┤ X ├┤ H ├─────\n",
              "«       │  U_E_caesar_dg │├───┤├───┤┌───┐┌─┴─┐├───┤├───┤┌───┐\n",
              "«  k_1: ┤3               ├┤ H ├┤ X ├┤ H ├┤ X ├┤ H ├┤ X ├┤ H ├\n",
              "«       │                │└───┘└───┘└───┘└───┘└───┘└───┘└───┘\n",
              "«  c_0: ┤4               ├───────────────────────────────────\n",
              "«       │                │                                   \n",
              "«  c_1: ┤5               ├───────────────────────────────────\n",
              "«       └────────────────┘                                   \n",
              "«  env: ─────────────────────────────────────────────────────\n",
              "«                                                            \n",
              "«phase: ─────────────────────────────────────────────────────\n",
              "«                                                            "
            ],
            "text/html": [
              "<pre style=\"word-wrap: normal;white-space: pre;background: #fff0;line-height: 1.1;font-family: &quot;Courier New&quot;,Courier,monospace\">           ┌───┐     ┌─────────────┐                                         »\n",
              "  m_0: ────┤ X ├─────┤0            ├─────────────────────────────────────────»\n",
              "           └───┘     │             │                                         »\n",
              "  m_1: ──────────────┤1            ├─────────────────────────────────────────»\n",
              "       ┌────────────┐│             │                                         »\n",
              "  k_0: ┤ U(π/2,0,π) ├┤2            ├─────────────────────────────────────────»\n",
              "       ├────────────┤│  U_E_caesar │                                         »\n",
              "  k_1: ┤ U(π/2,0,π) ├┤3            ├─────────────────────────────────────────»\n",
              "       └────────────┘│             │┌───┐┌───┐     ┌───┐┌───┐┌──────────────┐»\n",
              "  c_0: ──────────────┤4            ├┤ X ├┤ X ├──■──┤ X ├┤ X ├┤0             ├»\n",
              "                     │             │├───┤├───┤  │  ├───┤├───┤│              │»\n",
              "  c_1: ──────────────┤5            ├┤ X ├┤ X ├──■──┤ X ├┤ X ├┤1 CHAN_PARITY ├»\n",
              "                     └─────────────┘└───┘└───┘  │  └───┘└───┘│              │»\n",
              "  env: ─────────────────────────────────────────┼────────────┤2             ├»\n",
              "        ┌──────────┐  ┌────────────┐          ┌─┴─┐          └──────────────┘»\n",
              "phase: ─┤ U(π,0,π) ├──┤ U(π/2,0,π) ├──────────┤ X ├──────────────────────────»\n",
              "        └──────────┘  └────────────┘          └───┘                          »\n",
              "«       ┌────────────────┐                                   \n",
              "«  m_0: ┤0               ├───────────────────────────────────\n",
              "«       │                │                                   \n",
              "«  m_1: ┤1               ├───────────────────────────────────\n",
              "«       │                │┌───┐┌───┐          ┌───┐┌───┐     \n",
              "«  k_0: ┤2               ├┤ H ├┤ X ├───────■──┤ X ├┤ H ├─────\n",
              "«       │  U_E_caesar_dg │├───┤├───┤┌───┐┌─┴─┐├───┤├───┤┌───┐\n",
              "«  k_1: ┤3               ├┤ H ├┤ X ├┤ H ├┤ X ├┤ H ├┤ X ├┤ H ├\n",
              "«       │                │└───┘└───┘└───┘└───┘└───┘└───┘└───┘\n",
              "«  c_0: ┤4               ├───────────────────────────────────\n",
              "«       │                │                                   \n",
              "«  c_1: ┤5               ├───────────────────────────────────\n",
              "«       └────────────────┘                                   \n",
              "«  env: ─────────────────────────────────────────────────────\n",
              "«                                                            \n",
              "«phase: ─────────────────────────────────────────────────────\n",
              "«                                                            </pre>"
            ]
          },
          "metadata": {}
        }
      ]
    },
    {
      "cell_type": "code",
      "source": [],
      "metadata": {
        "id": "i7btO-UaOjvy"
      },
      "execution_count": null,
      "outputs": []
    }
  ]
}